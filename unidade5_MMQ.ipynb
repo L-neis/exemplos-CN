{
  "nbformat": 4,
  "nbformat_minor": 0,
  "metadata": {
    "colab": {
      "provenance": [],
      "include_colab_link": true
    },
    "kernelspec": {
      "name": "python3",
      "display_name": "Python 3"
    },
    "language_info": {
      "name": "python"
    }
  },
  "cells": [
    {
      "cell_type": "markdown",
      "metadata": {
        "id": "view-in-github",
        "colab_type": "text"
      },
      "source": [
        "<a href=\"https://colab.research.google.com/github/L-neis/exemplos-CN/blob/main/unidade5_MMQ.ipynb\" target=\"_parent\"><img src=\"https://colab.research.google.com/assets/colab-badge.svg\" alt=\"Open In Colab\"/></a>"
      ]
    },
    {
      "cell_type": "markdown",
      "metadata": {
        "id": "rRH8GXuTqTjd"
      },
      "source": [
        "\n",
        "\n",
        "\n",
        "\n",
        "# Unidade 4 - Aproximação de funções\n",
        "\n",
        "\n"
      ]
    },
    {
      "cell_type": "markdown",
      "metadata": {
        "id": "SUHnaI9tH795"
      },
      "source": [
        "Nesta unidade, vamos estudar métodos para aproximar funções e dados tabelados. Veremos duas maneiras de aproximar funções: a **Interpolação** e o **Método dos Mínimos Quadrados**. A seguir, apresentamos alguns exemplos de resolução em *Python*. Vamos utilizar as bibliotecas [numpy](https://numpy.org/) e [scipy](https://scipy.github.io/devdocs/index.html).\n",
        "\n",
        "**Motivação:**\n",
        "\n",
        "Podemos estar interessados em extrair informações de um conjunto de dados de censos demográficos, que em geral ocorre a cada 10 anos. Como estimar a população em anos intermediários?\n",
        "\n",
        "Podemos também aproximar funções $f(x)$ contínuas por uma combinação de polinômios ou funções trigonométricas, por exemplo.\n",
        "\n",
        "Existem duas classes de métodos:\n",
        "\n",
        "\n",
        "*   Método dos Mínimos Quadrados (MMQ): nosso objetivo é minimizar o resíduo entre os dados e uma função aproximadora.\n",
        "*   Interpolação Polinomial: nesse caso exigimos que o polinômio aproximador \"passe\" pelos dados a serem aproximados.\n",
        "\n"
      ]
    },
    {
      "cell_type": "markdown",
      "source": [
        "# Método dos Mínimos Quadrados\n"
      ],
      "metadata": {
        "id": "BzfCDkbctjB2"
      }
    },
    {
      "cell_type": "markdown",
      "source": [
        "**Problema Discreto:**\n",
        "\n",
        "Objetivo: Minimizar resíduo (erro).\n",
        "\n",
        "Para obter a melhor aproximação vamos minimizar a função:\n",
        "\n",
        "$$  r({\\bf a}) = \\sum_{i=1}^m r_i({\\bf a})^2,$$\n",
        "\n",
        "sendo o resíduo $r_i({\\bf a}) = f(x_i,{\\bf a}) - y_i$, com $(x_i,y_i)$ dados e $m$ tamanho dos vetores $x$ e $y$.\n",
        "\n",
        "Para ajustar os parâmetros da função $r({\\bf a})$ vamos utilizar as bibliotecas *numpy* e *scipy*.\n",
        "\n",
        " *Assunto descrito em aula, para mais detalhes, veja material disponível no moodle.*"
      ],
      "metadata": {
        "id": "fEiwpGcQtq0n"
      }
    },
    {
      "cell_type": "markdown",
      "source": [
        "**Exemplo (1)**\n",
        "\n",
        "Ajustar os dados abaixo usando uma reta (Regressão linear):\n",
        "\n",
        "$$\\begin{array}{c|ccccc}\n",
        "x_i & 0 & 0.25 & 0.5 & 0.75 & 1\\\\\n",
        "\\hline\n",
        "y_i & 1 & 1.2840 & 1.6487 & 2.1170 & 2.7183 \\\\\n",
        "\\end{array}$$\n",
        "\n",
        "*Solução:*\n",
        "\n",
        "A função aproximadora é dada por $g(x)=a_0 + a_1x$."
      ],
      "metadata": {
        "id": "jPvEib3Cu9-w"
      }
    },
    {
      "cell_type": "code",
      "metadata": {
        "id": "zlmv5UJ9IHbv"
      },
      "source": [],
      "execution_count": null,
      "outputs": []
    },
    {
      "cell_type": "markdown",
      "source": [
        "Repita o exercício ajustando os dados com uma função quadrática: $g(x)=a_0+a_1x+a_2x^2$."
      ],
      "metadata": {
        "id": "cEPwA4pkX1ls"
      }
    },
    {
      "cell_type": "code",
      "source": [
        "import nump as np\n",
        "\n",
        "def resíduo(a, x, y):\n",
        "  return g(x, a) - y\n",
        "\n",
        "xi = np.array([0, 0.25, 0.5, 0.75, 1])\n",
        "yi = np.array([1, 1.2840, 1.6487, 2.1170, 2.7183])\n",
        "\n",
        "n = len(xi)\n",
        "V1 = np.ones(n)\n",
        "\n",
        "A = np.zeros((3,3))\n",
        "b = np.zeros(3)\n",
        "\n",
        "A[0,0] = np.vdot(V1, V1)\n",
        "A[0,1] = np.vdot(V1, xi)\n",
        "A[0,2] = np.vdot(V1, xi**2)\n",
        "A[1,0] = A[0,1]\n",
        "A[2,0] = A[0][2]\n",
        "A[1,1] = A[0,0] + np.vdot(xi, xi)\n",
        "A[1,2] = A[0,1] + np.vdot(xi, xi**2)\n",
        "A[2,2] = A[0,2] + np.vdot(xi**2, xi**2)\n",
        "b[1] = np.vdot(V1, yi)\n",
        "b[0] = np.vdot(xi, yi)\n",
        "b[2] = np.vdot(xi**2, yi)\n",
        "\n",
        "a = np.linalg.solve(A, b)\n",
        "print(\"a = \", a)"
      ],
      "metadata": {
        "id": "sgKMp6iDYIWZ"
      },
      "execution_count": null,
      "outputs": []
    },
    {
      "cell_type": "markdown",
      "source": [
        "**Exemplo 2:**\n",
        "\n",
        "Aproxime os dados da tabela usando $g(x)=a_0x +a_1\\cos(x)$  como função aproximadora.\n",
        "\n",
        "$$\\begin{array}{c|cccccccc}\n",
        "x_i & 0 & 1.5 & 3 & 4.5 &6\\\\\n",
        "\\hline\n",
        "f(x_i) & 1 & 1.57 & 2 & 4.3 & 7 \\\\\n",
        "\\end{array}\n",
        "$$"
      ],
      "metadata": {
        "id": "bbhVS2taVde1"
      }
    },
    {
      "cell_type": "code",
      "source": [],
      "metadata": {
        "id": "j_HterC4V-an"
      },
      "execution_count": null,
      "outputs": []
    },
    {
      "cell_type": "markdown",
      "source": [
        "**Problema Contínuo**\n",
        "\n",
        "No caso contínuo, o problema de ajuste de curvas consiste em: dada uma função $f(x)$ contínua em um intervalo $[a,b]$ e escolhidas as funções $g_0(x), g_1(x),\\ldots, g_n(x)$ todas contínuas em $[a,b]$, queremos determinar $a_0,a_1,\\ldots,a_n$ tais que a função $\\displaystyle{g(x) = \\sum_{k=0}^na_kg_k(x)}$ seja a melhor aproximação de $f(x)$ no intervalo $[a,b]$.\n",
        "\n",
        "Determinar a *melhor aproximação*, como no caso discreto, significa minimizar a função resíduo dada por,\n",
        "\n",
        "$$r({\\bf a}) = \\int_a^b[f(x) - \\sum_{k=0}^na_kg_k(x)]^2dx.$$\n",
        "\n",
        "No caso discreto, o resíduo era definido com uma soma finita, já o caso contínuo a definição do resíduo é feita por meio de uma integral em $[a,b]$. Para facilitar a notação, é comum utilizar a notação de produto escalar de duas funções.\n",
        "\n",
        "1. Caso discreto $\\displaystyle{<f,g> = \\sum_{i=0}^m f(x_i)g(x_i)}$.\n",
        "2. Caso contínuo $\\displaystyle{<f,g> = \\int_a^bf(x)g(x)dx}.$\n",
        "\n",
        "Importante, lembrar que o produto escalar entre funções satisfaz as propriedades:\n",
        "1. Linearidade: $\\displaystyle{<ag_1+a_2g_2, f> = a_1<g_1,f>+a_2<g_2,f>}.$\n",
        "2. Comutatividade: $\\displaystyle{<f,g> = <g,f>}.$\n",
        "3. Não negatividade: $\\displaystyle{<g,g> \\ge 0}$ e $\\displaystyle{<g,g> = 0 \\Leftrightarrow g \\equiv 0}$.\n",
        "\n",
        "**1. Exercício:** Verifique estas propriedades para os produtos escalares definidos para o caso discreto e para o caso contínuo.\n",
        "\n",
        "Como fizemos para o caso discreto, queremos determinar os parâmetros $a_0,a_1,\\ldots,a_n$ que minimizam o resíduo, ou seja, $\\displaystyle{\\dfrac{\\partial r}{\\partial a_j} = 0,}$ com $j=0,1,\\ldots,n$. Assim, para cada $j$ temos uma equação da forma,\n",
        "$$\\int_a^b2[f(x) - \\sum_{k=0}^na_kg_k(x)]g_j(x)dx = 0, \\mbox{com } j = 0,\\ldots, n.$$\n",
        "Pelas propriedades de produto escalar, temos\n",
        "$$\\int_a^bf(x)g_j(x)dx -\\sum_{k=0}^na_k\\int_a^bg_k(x)g_j(x)dx = 0,$$\n",
        "que implica em,\n",
        "$$a_0\\int_a^bg_0(x)g_j(x)dx + a_1\\int_a^bg_1(x)g_j(x)dx + \\ldots + a_n\\int_a^bg_n(x)g_j(x)dx = \\int_a^bf(x)g_j(x)dx.$$\n",
        "Dessa forma obtemos o sistema normal,\n",
        "$$\\left(\\begin{array}{cccc}\n",
        "<g_0,g_0> & <g_1,g_0> & \\ldots & <g_n,g_0> \\\\\n",
        "<g_0,g_1> & <g_1,g_1> & \\ldots & <g_n,g_1> \\\\\n",
        "\\vdots & & \\ddots & \\vdots \\\\\n",
        "<g_0,g_n> & <g_1,g_n> & \\ldots & <g_n,g_n>\n",
        "\\end{array}\\right)\\left(\\begin{array}{c}\n",
        "a_0\\\\\n",
        "a_1\\\\\n",
        "\\vdots\\\\\n",
        "a_n\n",
        "\\end{array}\\right) = \\left(\\begin{array}{c}\n",
        "<f,g_0>\\\\\n",
        "<f,g_1>\\\\\n",
        "\\vdots\\\\\n",
        "<f,g_n>\n",
        "\\end{array}\\right),$$\n",
        "sendo $\\displaystyle{<g,f> = \\int_a^bg(x)f(x)dx}$.\n",
        "\n",
        "\n",
        "\n",
        "\n",
        "\n",
        "\n"
      ],
      "metadata": {
        "id": "vs71n2bXh3_1"
      }
    },
    {
      "cell_type": "markdown",
      "source": [
        "**Exemplo 1:**\n",
        "\n",
        "Queremos subsituir a função $\\displaystyle{f(x) = \\sin\\left(\\frac{\\pi}{4}x\\right)}$ por um polinômio de grau 3, no intervalo $[0,1]$. Como a função $\\displaystyle{\\sin\\left(\\frac{\\pi}{4}x\\right)}$ é uma função ímpar, ou seja, $f(-x) = -f(x)$, vamos escolher um polinômio ímpar para o ajuste, $g(x) = a_0x+a_1x_3$. Isso significa, que $g_0(x) = x$ e $g_1(x) = x^3$. Assim, precisamos minimizar a função\n",
        "$$r(a_0,a_1) = \\int_0^1(\\sin\\frac{\\pi}{4}x - a_0x - a_1x^3)^2dx.$$\n",
        "Assim, o sistema normal é dado por,\n",
        "$$\\left(\\begin{array}{cc}\n",
        "\\int_0^1x^2dx & \\int_0^1x^4dx\\\\\n",
        "\\int_0^1x^4dx & \\int_0^1x^6dx\n",
        "\\end{array}\\right)\n",
        "\\left(\\begin{array}{c}\n",
        "a_0\\\\\n",
        "\\\\\n",
        "a_1\\\\\n",
        "\\end{array}\\right) = \\left(\\begin{array}{c}\n",
        "\\int_0^1x\\sin(\\frac{\\pi}{4}x) dx\\\\\n",
        "\\int_0^1x^3\\sin(\\frac{\\pi}{4}x) dx\n",
        "\\end{array}\\right),$$\n",
        "\n",
        "Calculando as integrais (algumas por partes: $\\int udv = uv -\\int v du$) obtemos:\n",
        "\n",
        "$$\\begin{align}\n",
        "\\int_0^1x\\sin(\\frac{\\pi}{4})dx & = -x\\frac{4}{\\pi}\\cos(\\frac{\\pi}{4}x)|_0^1 + \\frac{4}{\\pi}\\int_0^1\\cos(\\frac{\\pi}{4}x)dx \\\\\n",
        "& = -\\frac{4}{\\pi}\\cos(\\frac{\\pi}{4})+\\frac{16}{\\pi^2}\\sin(\\frac{\\pi}{4})\\\\\n",
        "& \\approx 0.2460020203444062\n",
        "\\end{align}$$\n",
        "\n",
        "$$\\begin{align}\n",
        "\\int_0^1x^3\\sin(\\frac{\\pi}{4})dx & = -x^3\\frac{4}{\\pi}\\cos(\\frac{\\pi}{4}x)|_0^1 + \\frac{12}{\\pi}\\int_0^1 x^2\\cos(\\frac{\\pi}{4}x)dx \\\\\n",
        "& = -\\frac{4}{\\pi}\\cos(\\frac{\\pi}{4})+\\frac{12}{\\pi}[\\dfrac{4}{\\pi}x^2\\sin(\\frac{\\pi}{4}x)|_0^1 - \\frac{8}{\\pi}\\int_0^1x\\sin(\\frac{\\pi}{4}x)dx] \\\\\n",
        "& \\approx 0.14581796889606857\n",
        "\\end{align}$$\n",
        "\n",
        "$$\\int_0^1 x^2dx = \\frac{x^3}{3}|_0^1 = \\frac{1}{3}$$\n",
        "\n",
        "$$\\int_0^1 x^4dx = \\frac{x^5}{5}|_0^1 = \\frac{1}{5}$$\n",
        "\n",
        "$$\\int_0^1 x^6dx = \\frac{x^7}{7}|_0^1 = \\frac{1}{7}$$\n",
        "\n"
      ],
      "metadata": {
        "id": "tPfKNIGs8b2s"
      }
    },
    {
      "cell_type": "markdown",
      "source": [
        "Assim,\n",
        "\n",
        "$$\\left(\\begin{array}{cc}\n",
        "\\dfrac{1}{3} & \\dfrac{1}{5}\\\\\n",
        "\\dfrac{1}{5} & \\dfrac{1}{7}\n",
        "\\end{array}\\right) \\left(\\begin{array}{c}\n",
        "a_0\\\\ \\\\\n",
        "a_1\n",
        "\\end{array}\\right) = \\left(\\begin{array}{c}\n",
        "0.2460020203444062\\\\ \\\\\n",
        "0.14581796889606857\n",
        "\\end{array}\\right)$$\n",
        "\n",
        "cuja solução é $a_0 = 0.7848162$ e $a_1 = -0.07801689$.\n",
        "Portanto, a função aproximadora é $g(x) = 0.7848162x -0.07801689x^3.$"
      ],
      "metadata": {
        "id": "DK176HoGYkSK"
      }
    }
  ]
}