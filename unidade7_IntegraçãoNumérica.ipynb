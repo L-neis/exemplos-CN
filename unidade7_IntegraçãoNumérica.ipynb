{
  "nbformat": 4,
  "nbformat_minor": 0,
  "metadata": {
    "colab": {
      "provenance": [],
      "include_colab_link": true
    },
    "kernelspec": {
      "name": "python3",
      "display_name": "Python 3"
    },
    "language_info": {
      "name": "python"
    }
  },
  "cells": [
    {
      "cell_type": "markdown",
      "metadata": {
        "id": "view-in-github",
        "colab_type": "text"
      },
      "source": [
        "<a href=\"https://colab.research.google.com/github/L-neis/exemplos-CN/blob/main/unidade7_Integra%C3%A7%C3%A3oNum%C3%A9rica.ipynb\" target=\"_parent\"><img src=\"https://colab.research.google.com/assets/colab-badge.svg\" alt=\"Open In Colab\"/></a>"
      ]
    },
    {
      "cell_type": "markdown",
      "source": [
        "\n",
        "\n",
        "#Integração Numérica\n",
        "\n",
        "\n",
        "Nesta unidade vamos estudar métodos numéricos para aproximar a integral de $f(x)$ em um intervalo $[a,b]$, ou seja,\n",
        "\n",
        "$$\\int_a^bf(x)dx$$\n",
        "\n",
        "Métodos estudados: Retangulos, Trapézios, Simpson e fórmula Gaussianas.\n",
        "\n",
        "A ideia básica da integração numérica consiste na aproximação da função a ser integrada por um polinômio. A escolha do polinômio interpolador e dos pontos que serão usados na sua determinação vai definir os diversos métodos de integração.\n",
        "\n",
        "As fórmulas de integração são somatórios cujas parcelas são valores da função $f(x)$ avaliados em alguns pontos e multiplicados por pesos convenientemente escolhidos (determinados). As fórmulas de integração são da forma:\n",
        "\n",
        "$$\\int_a^bf(x)dx \\approx \\sum_{i=0}^nw_if(x_i)$$\n",
        "\n",
        "Considere $f(x)$ contínua em $[a,b]$.  \n",
        "\n",
        "\n",
        "**Retângulos**\n",
        "\n",
        "A ideia é aproximar a área por um retângulo, como quando deduzimos a definição de integral.\n",
        "\n",
        "$$\\int_a^bf(x)dx \\approx (b-a)f(a),$$\n",
        "ou\n",
        "$$\\int_a^bf(x)dx \\approx (b-a)f(b),$$\n",
        "ou ainda, a fórmula aberta,\n",
        "$$\\int_a^bf(x)dx \\approx (b-a)f\\left(\\dfrac{a+b}{2}\\right).$$\n",
        "\n",
        "Se dividimos o intervalo de integração em $n$ subintervalos temos a fórmula de integração com repetição. Nesse caso, aplicamos a fórmula de integração (Retângulos) em cada subintervalo $[x_i,x_{i+1}]$. Considere a partição $P$: $a=x_0 < x_1 < \\ldots < x_n = b$, com $x_{i+1}-x_i = h, \\forall i=0,1,\\ldots,n-1$. Por exemplo, utilizando a primeira fórmula de integração, obtemos:\n",
        "\n",
        "$$\\int_a^bf(x)dx\\approx h[f(x_0)+f(x_1)+\\ldots+f(x_{n-1})]$$\n",
        "\n",
        "\n",
        "**Algoritmo:** Retângulo com repetição\n",
        "\n",
        "Dados $h$, $f(x_i)$ para $i=0:n$\n",
        "1.  $\\mbox{soma}= 0$\n",
        "2.  Para $i=0:n-1$, faça\n",
        "3.  $\\hspace{1pc} \\mbox{soma}= \\mbox{soma}+f(x_i)$\n",
        "4.  $I_{R} = h*(\\mbox{soma})$\n",
        "\n",
        "*Exemplo 1:*\n",
        "\n",
        "Use o método dos Retângulos (com repetição) para calcular $\\displaystyle{\\log(2)=\\int_1^2\\dfrac{1}{x}dx}.$"
      ],
      "metadata": {
        "id": "G8I6mAVy70iU"
      }
    },
    {
      "cell_type": "code",
      "source": [
        "import numpy as np\n",
        "\n",
        "def f(x):\n",
        "  return 1/x\n",
        "\n",
        "def main():\n",
        "  a = 1\n",
        "  b = 2\n",
        "\n",
        "  N = 4\n",
        "  h = (b - a)/N\n",
        "\n",
        "  x = np.zeros(N+1)\n",
        "  x[0] = a\n",
        "  for i in range(1,N+1):\n",
        "    x[i] = x[i-1] + h\n",
        "  print (x)\n",
        "\n",
        "  soma = 0\n",
        "  for i in range(N-1):\n",
        "    soma += f(x[i])\n",
        "  IR = h*soma\n",
        "\n",
        "  print (\"Erro Triângulo:\", abs(np.log(2) - IR))\n",
        "\n",
        "main()\n",
        "\n"
      ],
      "metadata": {
        "id": "JJgjXqTu3Ep4",
        "outputId": "52cf1fb6-4dc4-4cfe-9a3f-928ad5e8e3c2",
        "colab": {
          "base_uri": "https://localhost:8080/"
        }
      },
      "execution_count": 10,
      "outputs": [
        {
          "output_type": "stream",
          "name": "stdout",
          "text": [
            "[1.   1.25 1.5  1.75 2.  ]\n",
            "Erro Triângulo: 0.07648051389327859\n"
          ]
        }
      ]
    },
    {
      "cell_type": "markdown",
      "source": [
        "**Trapézios**\n",
        "\n",
        "$$\\int_a^bf(x)dx \\approx \\dfrac{(b-a)}{2}[f(a)+f(b)]$$\n",
        "\n",
        "Fórmula com repetição: $a=x_0 < x_1 < \\ldots < x_n = b$, sendo $x_{i+1}-x_i = h$.\n",
        "\n",
        "$$\\int_a^bf(x)dx\\approx\\dfrac{h}{2}[f(x_0)+2f(x_1)+\\ldots+2f(x_{n-1})+f(x_n)]$$\n",
        "\n",
        "\n",
        "**Algoritmo:** Trapézio com repetição\n",
        "\n",
        "Dados $h$, $f(x_i)$ para $i=0:n$\n",
        "1.  $\\mbox{soma}= 0$\n",
        "2.  Para $i=1:n-1$, faça\n",
        "3.  $\\hspace{1pc} \\mbox{soma}= \\mbox{soma} +f(x_i)$\n",
        "4.  $I_{T} = \\dfrac{h}{2}[2*\\mbox{soma} +f(x_0)+f(x_n)]$\n"
      ],
      "metadata": {
        "id": "_tjOzcsZHDUK"
      }
    },
    {
      "cell_type": "code",
      "source": [
        "import numpy as np\n",
        "\n",
        "def f(x):\n",
        "  return 1/x\n",
        "\n",
        "def main():\n",
        "  a = 1\n",
        "  b = 2\n",
        "\n",
        "  N = 16\n",
        "  h = (b - a)/N\n",
        "\n",
        "  x = np.zeros(N+1)\n",
        "  x[0] = a\n",
        "  for i in range(1,N+1):\n",
        "    x[i] = x[i-1] + h\n",
        "\n",
        "  soma = 0\n",
        "  for i in range(1, N):\n",
        "    soma += f(x[i])\n",
        "  IT = (h/2)*(2*soma + f(x[0]) + f(x[N]))\n",
        "\n",
        "  print (\"Erro Trapézio:\", abs(np.log(2) - IT))\n",
        "\n",
        "main()\n"
      ],
      "metadata": {
        "id": "jrKBfG0D29uz",
        "outputId": "56b528ff-9406-4b8f-f559-20b9441afc5c",
        "colab": {
          "base_uri": "https://localhost:8080/"
        }
      },
      "execution_count": 11,
      "outputs": [
        {
          "output_type": "stream",
          "name": "stdout",
          "text": [
            "Erro Trapézio: 0.0002440216475814161\n"
          ]
        }
      ]
    },
    {
      "cell_type": "code",
      "execution_count": null,
      "metadata": {
        "id": "lF4cohhR7pAw"
      },
      "outputs": [],
      "source": [
        "\n"
      ]
    },
    {
      "cell_type": "markdown",
      "source": [
        "*Verificação numérica do erro:*\n",
        "\n",
        "Cada um dos métodos estudados possui uma ordem de aproximação do erro que depende de $h$, tamanho do intervalo onde aplicamos a fórmula de integração. A fórmula pode ser aplicada com repetição, ou seja, em cada subintervalo de tamanho $h$ que compõe o intervalo de integração.\n",
        "\n",
        "O erros nas fórmulas com repetição do método do trapézio e Simpson, são:\n",
        "\n",
        "$$E_T= -n\\dfrac{h^3}{12}f^{(2)}(\\xi) \\mbox{ e } E_S=-n\\dfrac{h^5}{90}f^{(4)}(\\xi),$$\n",
        "com $\\xi\\in[a,b]$. Como $h=(b-a)/n$ e $n$ é o número de intervalos, obtemos:\n",
        "\n",
        "$$E_T= -\\dfrac{(b-a)}{12}f^{(2)}(\\xi)h^2=O(h^2) \\mbox{ e } E_S=-\\dfrac{(b-a)}{90}f^{(4)}(\\xi)h^4=O(h^4).$$\n",
        "\n",
        "Assim, numericamente verificamos o erro analisando a sequência de razões entre os erros cometidos.\n",
        "\n",
        "Suponha que resolvemos um problema com o tamanho de subintervalo $h$ e que o método utilizado tem ordem de aproximação $p$, ou seja, o erro é $O(h^p)$. Repetimos a solução com $h/2$ e obteremos um erro $O((\\frac{h}{2})^p)$ e continuamos esse processo. Ao analisarmos a razão entre dois erros consecutivos, obtemos:\n",
        "\n",
        "$$\\dfrac{E_h}{E_{\\frac{h}{2}}}=\\dfrac{O(h^p)}{O((\\frac{h}{2})^p)}\\approx\\dfrac{h^p}{\\dfrac{h^p}{2^p}}=2^p.$$\n",
        "\n",
        "Assim, esta sequência de razões deve convergir para $2^p$, onde $p$ é a ordem de aproximação do método numérico."
      ],
      "metadata": {
        "id": "2jUfCdSSgP30"
      }
    },
    {
      "cell_type": "code",
      "source": [],
      "metadata": {
        "id": "dNn-Kttg1a4q"
      },
      "execution_count": null,
      "outputs": []
    },
    {
      "cell_type": "markdown",
      "source": [
        "**Simpson**\n",
        "\n",
        "$$\\int_a^bf(x)dx \\approx \\dfrac{h}{3}[f(a)+4f(x_M)+f(b)],$$\n",
        "sendo $h=(b-a)/2$ e $x_M = (b+a)/2$.\n",
        "\n",
        "Fórmula com repetição: $a=x_0 < x_1 < \\ldots < x_n = b$, sendo $x_{i+1}-x_i = h$.\n",
        "\n",
        "$$\\int_a^bf(x)dx\\approx\\dfrac{h}{3}[f(x_0)+4f(x_1)+2f(x_2) + 4f(x_3) +\\ldots+2f(x_{n-2})+4f(x_{n-1})+f(x_n)]$$\n",
        "\n",
        "\n",
        "**Algoritmo:** Simpson com repetição\n",
        "\n",
        "Dados $h$, $f(x_i)$ para $i=0:n$, com $n$ par.\n",
        "1.  $\\mbox{soma}= 0$\n",
        "2.  Para $i=1,3,5,\\ldots,n-1$, faça\n",
        "3.  $\\hspace{1pc} \\mbox{soma} = \\mbox{soma}+2f(x_i)+f(x_{i+1})$\n",
        "4.  $I_{S} = \\dfrac{h}{3}[2*\\mbox{soma} +f(x_0)-f(x_n)]$\n",
        "\n"
      ],
      "metadata": {
        "id": "GUo7zlpo3dRp"
      }
    },
    {
      "cell_type": "code",
      "source": [
        "import numpy as np\n",
        "\n",
        "def f(x):\n",
        "  return 1/x\n",
        "\n",
        "def main():\n",
        "  a = 1\n",
        "  b = 2\n",
        "\n",
        "  N = 4\n",
        "  h = (b - a)/N\n",
        "\n",
        "  x = np.zeros(N+1)\n",
        "  x[0] = a\n",
        "  for i in range(1,N+1):\n",
        "    x[i] = x[i-1] + h\n",
        "\n",
        "  soma = 0\n",
        "  for i in range(1, N):\n",
        "    soma += 2*f(x[i]) + f(x[i+1])\n",
        "  IS = (h/3)*(2*soma + (f(x[0]) - f(x[N])))\n",
        "\n",
        "  print (\"Erro Simpson:\", abs(np.log(2) - IS))\n",
        "\n",
        "main()"
      ],
      "metadata": {
        "id": "HdaIlrTQ36zY",
        "outputId": "c4cf1ccd-df2c-42f7-8e0b-6e45ed625c67",
        "colab": {
          "base_uri": "https://localhost:8080/"
        }
      },
      "execution_count": 14,
      "outputs": [
        {
          "output_type": "stream",
          "name": "stdout",
          "text": [
            "Erro Simpson: 0.5919195375805982\n"
          ]
        }
      ]
    },
    {
      "cell_type": "markdown",
      "source": [
        "**Fórmulas para $n=3$ e $n=4$**\n",
        "\n",
        "A seguir são apresentadas as fórmulas de integração obtidas a partir da integração de polinômios de grau 3 ($n=3$) e grau 4 ($n=4$). A obtenção da fórmula pode ser feita integrando-se o polinômio de Lagrange, para $n=4$ e $n=3$, como deduzido durante a aula para o caso $n=1$.\n",
        "\n",
        "*Fórmula de Newton-Cotes para $n=3$:*\n",
        "\n",
        "$$\\int_{x_0}^{x_3}f(x)dx = \\left(\\dfrac{3h}{8}\\right)[f(x_0)+3f(x_1)+3f(x_2)+f(x_3)] - \\left(\\dfrac{3h^5}{80}\\right)f^{(4)}(\\beta), x_0 < \\beta < x_3$$\n",
        "\n",
        "Obs. O último termo da expressão se refere ao erro cometido.\n",
        "\n",
        "*Fórmula de Newton-Cotes para $n=4$:*\n",
        "\n",
        "$$\\int_{x_0}^{x_4}f(x)dx = \\left(\\dfrac{2h}{45}\\right)[7f(x_0)+32f(x_1)+12f(x_2)+32f(x_3) + 7f(x_4)] - \\left(\\dfrac{8h^7}{945}\\right)f^{(6)}(\\beta), x_0 < \\beta < x_4$$\n",
        "\n",
        "Exercício:\n",
        "\n",
        "Implementar as fórmulas de Newton-Cotes, com $n=3$ e $n=4$ e aplicá-las para aproximar $$\\ln(2) = \\int_1^2\\dfrac{1}{x}dx,$$ e comparar com os resultados anteriores."
      ],
      "metadata": {
        "id": "RKxddkg44FYL"
      }
    },
    {
      "cell_type": "code",
      "source": [],
      "metadata": {
        "id": "GpCadT9v4Lxj"
      },
      "execution_count": null,
      "outputs": []
    },
    {
      "cell_type": "markdown",
      "source": [
        "**Método de Romerg**\n",
        "\n",
        "Técnica que combina fórmulas de Newton-Cotes usando a extrapolação de Richardson. A extrapolação de Richardson é uma técnica de aproximação que utiliza a série de Taylor.\n",
        "\n",
        "\n",
        "\n",
        "**Quadratura de Gauss-Legendre**\n",
        "\n",
        "São fórmulas que estão associadas a famílias de polinômios ortogonais. Utilizam $n+1$ pontos de integração (raízes do polinômios ortogonal de grau $n+1$) e são fórmulas exatas para polinômios de grau menor ou igual a $2n+1$. A seguir os métodos estudados implementados pelo módulo *scipy*."
      ],
      "metadata": {
        "id": "77TeLpWd-OyO"
      }
    },
    {
      "cell_type": "code",
      "source": [],
      "metadata": {
        "id": "XtoojTXT-rul"
      },
      "execution_count": null,
      "outputs": []
    },
    {
      "cell_type": "markdown",
      "source": [
        "**Exercícios**\n",
        "\n",
        "1. Considere a função,  $f(x)=\\sin(x)$ no intervalo $[0,\\pi]$.\n",
        "  \n",
        "(a) Use a regra de Simpsom com repetição, $n=4$, ou seja, com quatro subintervalos, para integrar a função.\n",
        "\n",
        "(b) Use a regra do Trapézio com repetição, $n=4$, para integrar a função.\n",
        "\n",
        "(c) Compare os resultados avaliando o erro cometido e determine os valores de $h$ (sendo $h$ o tamanho de cada subintervalo), para a regra do Trapézio e para a regra de Simpson, para que se possa avaliar as integrais com erro inferior a $10^{-4}$? Justifique sua resposta.   \n",
        "\n",
        "\n",
        "2. Obtenha uma fórmula de integração baseada na fórmula de Simpson para a integração de funções com duas variáveis, ou seja, $$\\iint_Rf(x,y)dxdy.$$\n",
        "\n",
        "3. Considere a função,\n",
        "\n",
        "  \\begin{equation}\n",
        "    f(x)=\\left\\{\\begin{array}{cl}\n",
        "x^2, & \\mbox{ se } 0 \\le x \\le 1,\\\\\n",
        "(x + 2)^3, & \\mbox{ se } 1 < x \\le 2,\n",
        "    \\end{array}\\right .\n",
        "  \\end{equation}\n",
        "  no intervalo $[0,2]$.\n",
        "  \n",
        "(a) Use a regra de Simpsom com repetição, $n=4$, ou seja, com quatro subintervalos, para integrar $f(x)$.\n",
        "\n",
        "(b) Use a regra do retângulo (utilizando o ponto médio) com repetição, $n=4$, para integrar $f(x)$.\n",
        "  \n",
        "\n",
        "\n",
        "4. Determina $n$ de modo que a aproximação de $\\displaystyle{\\int_0^1e^{-x^2}dx}$ usando Simpson tenha erro menor que $10^{-4}$."
      ],
      "metadata": {
        "id": "O0JpiZSc7CEa"
      }
    },
    {
      "cell_type": "code",
      "source": [],
      "metadata": {
        "id": "hrGCn4gB_tQt"
      },
      "execution_count": null,
      "outputs": []
    }
  ]
}